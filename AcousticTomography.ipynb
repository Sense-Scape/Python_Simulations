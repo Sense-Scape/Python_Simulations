{
 "cells": [
  {
   "attachments": {},
   "cell_type": "markdown",
   "metadata": {},
   "source": [
    "# Acoustic Tomography"
   ]
  },
  {
   "attachments": {},
   "cell_type": "markdown",
   "metadata": {},
   "source": [
    "## Sinogram\n",
    "\n",
    "This is distribution of amplitude as a function of illumination angle. This illuminated image is a back projection.\n",
    "\n",
    "Question: How does one go from a sinogram to a back projected image. i.e what is the difference between a sinogram and back projection."
   ]
  },
  {
   "attachments": {},
   "cell_type": "markdown",
   "metadata": {},
   "source": [
    "### Forward Projection\n",
    "\n",
    "Used to generate a forward projection for **one fixed angle**\n",
    "\n",
    "$$ p(s,\\phi) =  R\\{\\,f(x,y)\\,\\}$$\n",
    "\n",
    "#### Summary of symbols\n",
    "\n",
    "- $ f(x,y) $ describes the the object in \"physical space\". i.e A standard 2 dimensional coordinate system. The function will evaluate to some value. These values **correspond to density**. High values mean high density, low values mean low density.\n",
    "- $ p(s,\\phi) $ describes the projection space. Simply stated as follows: For a given illumination angle $ \\phi $, what is the density for a given position $ s $.\n",
    "- $ R\\{ \\, \\}$ describes the radon transform, the mapping from density at a given $x,y$ coordinate to the density at a given angle, distance $s, \\phi$ coordinate\n",
    "\n",
    "This results in the following expression:\n",
    "\n",
    "$$ p(s,\\phi) = \\int_{L_{s\\,\\phi}}\\,f(x,y)\\,du$$\n",
    "\n",
    "Note that we are transforming from a cartesian domain to something a like a circular domain. i.e instead of expressing a position in terms of $x$ and $y$, we want to express the domain in terms of two orthogonal vectors $s$ and $u$ that change as a function of out illumination angle $\\phi$. The mapping between these two spaces is shown below:\n",
    "\n",
    "$$ \\begin{pmatrix} x \\\\ y\\end{pmatrix} = \\begin{pmatrix} cos(\\phi) & -sin(\\phi) \\\\ sin(\\phi) & cos(\\phi) \\end{pmatrix}\\begin{pmatrix} s \\\\ u \\end{pmatrix}$$\n",
    "\n",
    "Therefore:\n",
    "\n",
    "$$ x = s\\,cos(\\phi) - u\\,sin(\\phi) \\\\ y = s\\,sin(\\phi) + u\\, cos(\\phi)$$\n",
    "\n",
    "which results in\n",
    "\n",
    "$$ s = x\\,cos(\\phi) + y\\,sin(\\phi)$$\n",
    "\n",
    "If one then decides to substitute into the equation above we get the following:\n",
    "\n",
    "$$ p(s,\\phi) = \\int_{L_{s\\,\\phi}}\\,f(s\\,cos(\\phi) - u\\,sin(\\phi),s\\,sin(\\phi) + u\\, cos(\\phi))\\,du$$\n",
    "\n",
    "In plain words: The \"total density\"(?) of a material for a given angle of illumination $\\phi$ at position of illumination $s$ is the summation of all the density along the orthogonal path of propagation $$ u.\n",
    " "
   ]
  },
  {
   "attachments": {},
   "cell_type": "markdown",
   "metadata": {},
   "source": [
    "## Back Projection\n",
    "\n",
    "This is the inverse of the Back Projection"
   ]
  },
  {
   "attachments": {},
   "cell_type": "markdown",
   "metadata": {},
   "source": []
  }
 ],
 "metadata": {
  "kernelspec": {
   "display_name": "base",
   "language": "python",
   "name": "python3"
  },
  "language_info": {
   "codemirror_mode": {
    "name": "ipython",
    "version": 3
   },
   "file_extension": ".py",
   "mimetype": "text/x-python",
   "name": "python",
   "nbconvert_exporter": "python",
   "pygments_lexer": "ipython3",
   "version": "3.9.13"
  },
  "orig_nbformat": 4,
  "vscode": {
   "interpreter": {
    "hash": "c6b6a50cdc07914330d0ba6ad5e7ccd5be9087c61d4cf1fbd143ac2fb2dc4b29"
   }
  }
 },
 "nbformat": 4,
 "nbformat_minor": 2
}
